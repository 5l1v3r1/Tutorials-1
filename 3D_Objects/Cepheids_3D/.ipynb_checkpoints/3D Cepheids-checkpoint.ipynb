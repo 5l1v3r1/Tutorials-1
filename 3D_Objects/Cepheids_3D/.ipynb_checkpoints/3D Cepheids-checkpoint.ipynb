{
 "cells": [
  {
   "cell_type": "markdown",
   "metadata": {},
   "source": [
    "Notebook and script based on `dices.py` created by F. Vogt, January 2015, [email](mailto:frederic.vogt@anu.edu.au)\n",
    "\n",
    "History: \n",
    "> Initial version, August Muench March 2015, august.fly@gmail.com\n"
   ]
  },
  {
   "cell_type": "code",
   "execution_count": 11,
   "metadata": {
    "collapsed": false
   },
   "outputs": [],
   "source": [
    "from mayavi import mlab"
   ]
  },
  {
   "cell_type": "code",
   "execution_count": 12,
   "metadata": {
    "collapsed": true
   },
   "outputs": [],
   "source": [
    "from astropy.table import Table"
   ]
  },
  {
   "cell_type": "markdown",
   "metadata": {},
   "source": [
    "These data were taken from VizieR: ['Calibration of Cepheid Period/Luminosity relation (Fouque+, 2007)'](http://vizier.u-strasbg.fr/viz-bin/VizieR?-source=J/A%2BA/476/73). They are a merger of Tables 2 and 6 for all objects in Table 6. Merge performed in TopCat on \"Star (Name)\"; a subset of the merged columns were output to a FITS file."
   ]
  },
  {
   "cell_type": "code",
   "execution_count": 13,
   "metadata": {
    "collapsed": false
   },
   "outputs": [],
   "source": [
    "data = Table.read(\"Fouque2007_Cepheids.fits\")"
   ]
  },
  {
   "cell_type": "code",
   "execution_count": 42,
   "metadata": {
    "collapsed": true
   },
   "outputs": [],
   "source": [
    "px = data['_RAJ2000'] \n",
    "py = data['_DEJ2000']\n",
    "pz = data['Distance']\n",
    "ps = data['e_plx']/data['plx']\n",
    "ps = data['E(B-V)']/max(data['E(B-V)'])\n"
   ]
  },
  {
   "cell_type": "code",
   "execution_count": 45,
   "metadata": {
    "collapsed": false
   },
   "outputs": [],
   "source": [
    "mlab.close(1)\n",
    "mlab.figure(1,size=(1000,500))\n",
    "mlab.points3d(px, py, pz, ps,  extent=[0, 1, 0, 0.5, 0, 1], scale_factor=10., scale_mode='none', mode='sphere')\n",
    "mlab.axes(ranges = [360, 0.0, -90, 90, 1, 1000], nb_labels=5)\n",
    "mlab.xlabel(\"RA\")\n",
    "mlab.ylabel(\"Dec\")\n",
    "mlab.zlabel(\"Distance (pc)\")\n",
    "mlab.title(\"Fouque2007_Cepheids\", height=0.9, opacity = 0.5, size=0.3)\n",
    "# save to X3D file\n",
    "mlab.savefig('cephieds.x3d')\n",
    "mlab.show()\n",
    "\n"
   ]
  },
  {
   "cell_type": "code",
   "execution_count": 24,
   "metadata": {
    "collapsed": true
   },
   "outputs": [],
   "source": [
    "mlab.points3d?"
   ]
  }
 ],
 "metadata": {
  "kernelspec": {
   "display_name": "Python 2",
   "language": "python",
   "name": "python2"
  },
  "language_info": {
   "codemirror_mode": {
    "name": "ipython",
    "version": 2
   },
   "file_extension": ".py",
   "mimetype": "text/x-python",
   "name": "python",
   "nbconvert_exporter": "python",
   "pygments_lexer": "ipython2",
   "version": "2.7.9"
  }
 },
 "nbformat": 4,
 "nbformat_minor": 0
}
