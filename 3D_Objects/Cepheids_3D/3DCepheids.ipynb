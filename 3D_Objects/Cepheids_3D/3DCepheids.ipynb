{
 "cells": [
  {
   "cell_type": "markdown",
   "metadata": {},
   "source": [
    "Notebook and script based on `dices.py` created by F. Vogt ([email](mailto:frederic.vogt@anu.edu.au)), January 2015.\n",
    "\n",
    "History: \n",
    "> April 2015: Initial version, August Muench (august.fly@gmail.com)\n"
   ]
  },
  {
   "cell_type": "code",
   "execution_count": 14,
   "metadata": {
    "collapsed": false
   },
   "outputs": [],
   "source": [
    "# mayavi 4.4.0\n",
    "from mayavi import mlab"
   ]
  },
  {
   "cell_type": "code",
   "execution_count": 8,
   "metadata": {
    "collapsed": true
   },
   "outputs": [],
   "source": [
    "# astropy 1.0.1\n",
    "from astropy.table import Table"
   ]
  },
  {
   "cell_type": "markdown",
   "metadata": {},
   "source": [
    "These data were taken from VizieR: ['Calibration of Cepheid Period/Luminosity relation (Fouque+, 2007)'](http://vizier.u-strasbg.fr/viz-bin/VizieR?-source=J/A%2BA/476/73). They are a merger of Tables 2 and 6 for all objects in Table 6. Merge performed in [TopCat](http://www.star.bris.ac.uk/~mbt/topcat/) on \"Star (Name)\"; a subset of the merged columns were output to a FITS file."
   ]
  },
  {
   "cell_type": "code",
   "execution_count": 9,
   "metadata": {
    "collapsed": false
   },
   "outputs": [],
   "source": [
    "data = Table.read(\"Fouque2007_Cepheids.fits\")"
   ]
  },
  {
   "cell_type": "code",
   "execution_count": 10,
   "metadata": {
    "collapsed": true
   },
   "outputs": [],
   "source": [
    "px = data['_RAJ2000'] \n",
    "py = data['_DEJ2000']\n",
    "pz = data['Distance']\n",
    "# ps is a scalar to modify the color/size of the 3d points\n",
    "ps = data['e_plx']/data['plx']\n",
    "ps = data['E(B-V)']/max(data['E(B-V)'])\n"
   ]
  },
  {
   "cell_type": "code",
   "execution_count": 11,
   "metadata": {
    "collapsed": false
   },
   "outputs": [],
   "source": [
    "mlab.close(1)\n",
    "mlab.figure(1,size=(1000,500))\n",
    "mlab.points3d(px, py, pz, ps,  extent=[0, 1, 0, 0.5, 0, 1], scale_factor=10., scale_mode='none', mode='sphere')\n",
    "mlab.axes(ranges = [360, 0.0, -90, 90, 1, 1000], nb_labels=5)\n",
    "mlab.xlabel(\"RA\")\n",
    "mlab.ylabel(\"Dec\")\n",
    "mlab.zlabel(\"Distance (pc)\")\n",
    "mlab.title(\"Fouque2007_Cepheids\", height=0.9, opacity = 0.5, size=0.3)\n",
    "# save to X3D file\n",
    "mlab.savefig('cephieds.x3d')\n",
    "mlab.show()\n",
    "\n"
   ]
  }
 ],
 "metadata": {
  "kernelspec": {
   "display_name": "Python 2",
   "language": "python",
   "name": "python2"
  },
  "language_info": {
   "codemirror_mode": {
    "name": "ipython",
    "version": 2
   },
   "file_extension": ".py",
   "mimetype": "text/x-python",
   "name": "python",
   "nbconvert_exporter": "python",
   "pygments_lexer": "ipython2",
   "version": "2.7.9"
  }
 },
 "nbformat": 4,
 "nbformat_minor": 0
}
