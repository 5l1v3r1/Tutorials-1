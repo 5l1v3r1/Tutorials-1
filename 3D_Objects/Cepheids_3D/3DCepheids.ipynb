{
 "cells": [
  {
   "cell_type": "markdown",
   "metadata": {},
   "source": [
    "Notebook and script based on `dices.py` created by F. Vogt ([email](mailto:frederic.vogt@anu.edu.au)), January 2015. \n",
    "\n",
    "Please cite Vogt et al. (2014) ([doi:10.1088/0004-637X/793/2/127/data](http://dx.doi.org/10.1088/0004-637X/793/2/127/data)) as the first instance of this type of data object in an AAS Journal article.\n",
    "\n",
    "History: \n",
    "> April 2015: Initial version, August Muench (august.fly@gmail.com)\n"
   ]
  },
  {
   "cell_type": "code",
   "execution_count": 1,
   "metadata": {
    "collapsed": false
   },
   "outputs": [
    {
     "name": "stderr",
     "output_type": "stream",
     "text": [
      "WARNING:traits.has_traits:DEPRECATED: traits.has_traits.wrapped_class, 'the 'implements' class advisor has been deprecated. Use the 'provides' class decorator.\n"
     ]
    }
   ],
   "source": [
    "# mayavi 4.4.0\n",
    "from mayavi import mlab"
   ]
  },
  {
   "cell_type": "code",
   "execution_count": 2,
   "metadata": {
    "collapsed": true
   },
   "outputs": [],
   "source": [
    "# astropy 1.0.1\n",
    "from astropy.table import Table"
   ]
  },
  {
   "cell_type": "markdown",
   "metadata": {},
   "source": [
    "These data were taken from VizieR: ['Calibration of Cepheid Period/Luminosity relation (Fouque+, 2007)'](http://vizier.u-strasbg.fr/viz-bin/VizieR?-source=J/A%2BA/476/73). They are a merger of Tables 2 and 6 for all objects in Table 6. Merge performed in [TopCat](http://www.star.bris.ac.uk/~mbt/topcat/) on \"Star (Name)\"; a subset of the merged columns were output to a FITS file."
   ]
  },
  {
   "cell_type": "code",
   "execution_count": 3,
   "metadata": {
    "collapsed": false
   },
   "outputs": [
    {
     "name": "stderr",
     "output_type": "stream",
     "text": [
      "WARNING: UnitsWarning: '[d]' did not parse as fits unit: Invalid character at col 0 [astropy.units.core]\n",
      "WARNING:astropy:UnitsWarning: '[d]' did not parse as fits unit: Invalid character at col 0\n"
     ]
    }
   ],
   "source": [
    "data = Table.read(\"Fouque2007_Cepheids.fits\")"
   ]
  },
  {
   "cell_type": "code",
   "execution_count": 4,
   "metadata": {
    "collapsed": false
   },
   "outputs": [],
   "source": [
    "px = data['_RAJ2000'] \n",
    "py = data['_DEJ2000']\n",
    "pz = data['Distance']\n",
    "# ps is a scalar to modify the color/size of the 3d points\n",
    "ps = data['e_plx']/data['plx']\n",
    "ps = data['E(B-V)']/max(data['E(B-V)'])\n"
   ]
  },
  {
   "cell_type": "code",
   "execution_count": 5,
   "metadata": {
    "collapsed": false
   },
   "outputs": [
    {
     "name": "stderr",
     "output_type": "stream",
     "text": [
      "/Users/aamn/anaconda/envs/3d/lib/python2.7/site-packages/mayavi/tools/figure.py:178: UserWarning: Scene Mayavi Scene 1 not managed by mlab\n",
      "  warnings.warn('Scene %s not managed by mlab' % name)\n",
      "/Users/aamn/anaconda/envs/3d/lib/python2.7/site-packages/traits/has_traits.py:1771: FutureWarning: comparison to `None` will result in an elementwise object comparison in the future.\n",
      "  setattr( self, name, value )\n"
     ]
    }
   ],
   "source": [
    "mlab.close(1)\n",
    "mlab.figure(1,size=(600,300))\n",
    "mlab.points3d(px, py, pz, ps,  extent=[0, 1, 0, 0.5, 0, 1], scale_factor=10., scale_mode='none', mode='sphere')\n",
    "\n",
    "# figure\n",
    "mlab.outline(color=(0,0,0),line_width = 2.0)\n",
    "mlab.axes(color = (0,0,0), ranges = [360, 0.0, -90, 90, 1, 1000], nb_labels=5)\n",
    "mlab.xlabel(\"RA\")\n",
    "mlab.ylabel(\"Dec\")\n",
    "mlab.zlabel(\"Distance (pc)\")\n",
    "mlab.title(\"Fouque2007_Cepheids\", height=0.9, opacity = 0.5, size=0.3)\n",
    "mlab.colorbar(orientation=\"vertical\",nb_labels=7)\n",
    "\n",
    "# save to X3D file\n",
    "mlab.savefig('cepheids.x3d')\n",
    "mlab.show()\n",
    "\n"
   ]
  },
  {
   "cell_type": "code",
   "execution_count": 6,
   "metadata": {
    "collapsed": true
   },
   "outputs": [],
   "source": [
    "mlab.figure?"
   ]
  },
  {
   "cell_type": "code",
   "execution_count": null,
   "metadata": {
    "collapsed": true
   },
   "outputs": [],
   "source": []
  }
 ],
 "metadata": {
  "kernelspec": {
   "display_name": "Python 2",
   "language": "python",
   "name": "python2"
  },
  "language_info": {
   "codemirror_mode": {
    "name": "ipython",
    "version": 2
   },
   "file_extension": ".py",
   "mimetype": "text/x-python",
   "name": "python",
   "nbconvert_exporter": "python",
   "pygments_lexer": "ipython2",
   "version": "2.7.9"
  }
 },
 "nbformat": 4,
 "nbformat_minor": 0
}
