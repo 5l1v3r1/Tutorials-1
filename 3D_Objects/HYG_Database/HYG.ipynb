{
 "cells": [
  {
   "cell_type": "markdown",
   "metadata": {},
   "source": [
    "An attempt to render the HYG Database in X3D(OM). \n",
    "\n",
    "Based upon Michael Chang's [Google Chrome \"100,000\" Stars Experiment](http://www.html5rocks.com/en/tutorials/casestudies/100000stars/)\n",
    "\n",
    "History: \n",
    "> April 2015: Initial version, HYD v3, August Muench (august.fly@gmail.com)\n",
    "\n"
   ]
  },
  {
   "cell_type": "code",
   "execution_count": 2,
   "metadata": {
    "collapsed": false
   },
   "outputs": [
    {
     "name": "stdout",
     "output_type": "stream",
     "text": [
      "Automatic pdb calling has been turned ON\n"
     ]
    }
   ],
   "source": [
    "%pdb"
   ]
  },
  {
   "cell_type": "code",
   "execution_count": 3,
   "metadata": {
    "collapsed": false
   },
   "outputs": [
    {
     "name": "stderr",
     "output_type": "stream",
     "text": [
      "WARNING:traits.has_traits:DEPRECATED: traits.has_traits.wrapped_class, 'the 'implements' class advisor has been deprecated. Use the 'provides' class decorator.\n"
     ]
    }
   ],
   "source": [
    "# mayavi 4.4.0\n",
    "from mayavi import mlab"
   ]
  },
  {
   "cell_type": "code",
   "execution_count": 4,
   "metadata": {
    "collapsed": true
   },
   "outputs": [],
   "source": [
    "# astropy 1.0.1\n",
    "from astropy.table import Table"
   ]
  },
  {
   "cell_type": "markdown",
   "metadata": {},
   "source": [
    "The HYD data were downloaded as a gzipped CSV file from the [Astronomy Nexus](http://astronexus.com/hyg/) website. \n",
    "\n",
    "> MD5 (hygdata_v3.csv.gz) = abbb1109c62d2c759b765e3315ffa901\n",
    "\n",
    "I tried two examples inports with this data. First as the straight CSV in astropy; then using a modified version with fewer columns and wrapped as a FITS objects (using TopCat). \n"
   ]
  },
  {
   "cell_type": "code",
   "execution_count": 5,
   "metadata": {
    "collapsed": false
   },
   "outputs": [],
   "source": [
    "data = Table.read(\"hygdata_v3.fits\")"
   ]
  },
  {
   "cell_type": "code",
   "execution_count": 6,
   "metadata": {
    "collapsed": false
   },
   "outputs": [
    {
     "data": {
      "text/html": [
       "&lt;Table masked=True length=119614&gt;\n",
       "<table id=\"table4804271248\">\n",
       "<thead><tr><th>id</th><th>hip</th><th>hd</th><th>hr</th><th>gl</th><th>bf</th><th>proper</th><th>ra</th><th>dec</th><th>dist</th><th>pmra</th><th>pmdec</th><th>rv</th><th>mag</th><th>absmag</th><th>spect</th><th>ci</th><th>x</th><th>y</th><th>z</th><th>vx</th><th>vy</th><th>vz</th><th>rarad</th><th>decrad</th><th>pmrarad</th><th>pmdecrad</th><th>bayer</th><th>flam</th><th>con</th><th>comp</th><th>comp_primary</th><th>base</th><th>lum</th><th>var</th><th>var_min</th><th>var_max</th></tr></thead>\n",
       "<thead><tr><th>int32</th><th>int32</th><th>int32</th><th>int16</th><th>string72</th><th>string80</th><th>string192</th><th>float64</th><th>float64</th><th>float64</th><th>float32</th><th>float32</th><th>float32</th><th>float32</th><th>float32</th><th>string96</th><th>float32</th><th>float64</th><th>float64</th><th>float64</th><th>float64</th><th>float64</th><th>float64</th><th>float64</th><th>float64</th><th>float64</th><th>float64</th><th>string40</th><th>int16</th><th>string24</th><th>int16</th><th>int32</th><th>string64</th><th>float64</th><th>string40</th><th>float32</th><th>float32</th></tr></thead>\n",
       "<tr><td>0</td><td>--</td><td>--</td><td>--</td><td></td><td></td><td>Sol</td><td>0.0</td><td>0.0</td><td>0.0</td><td>0.0</td><td>0.0</td><td>0.0</td><td>-26.7</td><td>4.85</td><td>G2V</td><td>0.656</td><td>5e-06</td><td>0.0</td><td>0.0</td><td>0.0</td><td>0.0</td><td>0.0</td><td>0.0</td><td>0.0</td><td>0.0</td><td>0.0</td><td></td><td>--</td><td></td><td>1</td><td>0</td><td></td><td>1.0</td><td></td><td>nan</td><td>nan</td></tr>\n",
       "<tr><td>70666</td><td>70890</td><td>--</td><td>--</td><td>Gl 551</td><td></td><td>Proxima Centauri</td><td>14.495985</td><td>-62.679485</td><td>1.2959</td><td>-3775.64</td><td>768.16</td><td>-16.0</td><td>11.01</td><td>15.447</td><td>M5Ve</td><td>1.807</td><td>-0.472264</td><td>-0.361451</td><td>-1.151219</td><td>-1.186e-05</td><td>2.079e-05</td><td>1.675e-05</td><td>3.79503991683</td><td>-1.09396338473</td><td>-1.83048192485e-05</td><td>3.724144768e-06</td><td></td><td>--</td><td>Cen</td><td>1</td><td>70666</td><td></td><td>5.77032135333e-05</td><td>V645</td><td>11.079</td><td>10.939</td></tr>\n",
       "<tr><td>71453</td><td>71681</td><td>128621</td><td>5460</td><td>Gl 559B</td><td>Alp2Cen</td><td></td><td>14.660346</td><td>-60.8383</td><td>1.3248</td><td>-3678.19</td><td>481.84</td><td>-26.2</td><td>1.35</td><td>5.739</td><td>K1V</td><td>0.9</td><td>-0.495181</td><td>-0.413973</td><td>-1.156674</td><td>-7.22e-06</td><td>2.476e-05</td><td>2.491e-05</td><td>3.83806957078</td><td>-1.06182864877</td><td>-1.78323683168e-05</td><td>2.336026238e-06</td><td>Alp-2</td><td>--</td><td>Cen</td><td>2</td><td>71456</td><td>Gl 559</td><td>0.440960816451</td><td></td><td>nan</td><td>nan</td></tr>\n",
       "<tr><td>71456</td><td>71683</td><td>128620</td><td>5459</td><td>Gl 559A</td><td>Alp1Cen</td><td>Rigil Kentaurus</td><td>14.660765</td><td>-60.833976</td><td>1.3248</td><td>-3678.19</td><td>481.84</td><td>-26.2</td><td>-0.01</td><td>4.379</td><td>G2V</td><td>0.71</td><td>-0.495203</td><td>-0.414084</td><td>-1.156625</td><td>-7.22e-06</td><td>2.476e-05</td><td>2.491e-05</td><td>3.83817921178</td><td>-1.06175317577</td><td>-1.78323683168e-05</td><td>2.336026238e-06</td><td>Alp-1</td><td>--</td><td>Cen</td><td>1</td><td>71456</td><td>Gl 559</td><td>1.54312106566</td><td></td><td>0.113</td><td>-0.087</td></tr>\n",
       "<tr><td>87665</td><td>87937</td><td>--</td><td>--</td><td>Gl 699</td><td></td><td>Barnard&apos;s Star</td><td>17.963472</td><td>4.693388</td><td>1.8238</td><td>-797.84</td><td>9999.99</td><td>-111.0</td><td>9.54</td><td>13.235</td><td>sdM4</td><td>1.57</td><td>-0.017373</td><td>-1.816613</td><td>0.149123</td><td>-5.91e-06</td><td>0.0001204</td><td>7.888e-05</td><td>4.70282603167</td><td>0.0819150787324</td><td>-3.86803746894e-06</td><td>5.0066369421e-05</td><td></td><td>--</td><td>Oph</td><td>1</td><td>87665</td><td></td><td>0.000442588372363</td><td>V2500</td><td>9.59</td><td>9.49</td></tr>\n",
       "<tr><td>118720</td><td>--</td><td>--</td><td>--</td><td>Gl 406</td><td></td><td></td><td>10.941484</td><td>7.01532</td><td>2.3906</td><td>-3822.95</td><td>-2716.83</td><td>13.0</td><td>13.45</td><td>16.557</td><td>M6</td><td>2.0</td><td>-2.282811</td><td>0.649334</td><td>0.292057</td><td>-4.33e-06</td><td>4.728e-05</td><td>-2.961e-05</td><td>2.86447368677</td><td>0.122440437309</td><td>-1.85341846008e-05</td><td>-1.3171553821e-05</td><td></td><td>--</td><td></td><td>1</td><td>118720</td><td></td><td>2.0758692705e-05</td><td></td><td>nan</td><td>nan</td></tr>\n",
       "<tr><td>53879</td><td>54035</td><td>95735</td><td>--</td><td>Gl 411</td><td></td><td>Lalande 21185</td><td>11.055632</td><td>35.969877</td><td>2.5469</td><td>-580.2</td><td>-4767.09</td><td>-84.3</td><td>7.49</td><td>10.46</td><td>M2V</td><td>1.502</td><td>-1.998</td><td>0.504305</td><td>1.495504</td><td>3.587e-05</td><td>-1.66e-06</td><td>-9.828e-05</td><td>2.89435757722</td><td>0.627792793336</td><td>-2.81288897458e-06</td><td>-2.3111504484e-05</td><td></td><td>--</td><td></td><td>1</td><td>53879</td><td></td><td>0.00570164272281</td><td></td><td>nan</td><td>nan</td></tr>\n",
       "<tr><td>118079</td><td>--</td><td>--</td><td>--</td><td>Gl 65A</td><td></td><td></td><td>1.650199</td><td>-17.949782</td><td>2.6267</td><td>3312.95</td><td>560.34</td><td>29.0</td><td>12.57</td><td>15.473</td><td>dM5.5e</td><td>1.85</td><td>2.270499</td><td>1.04697</td><td>-0.809963</td><td>1e-05</td><td>5.104e-05</td><td>-2.36e-06</td><td>0.432021068741</td><td>-0.313282798266</td><td>1.606163483e-05</td><td>2.716614673e-06</td><td></td><td>--</td><td></td><td>1</td><td>118079</td><td>Gl  65</td><td>5.63378150851e-05</td><td></td><td>nan</td><td>nan</td></tr>\n",
       "<tr><td>118080</td><td>--</td><td>--</td><td>--</td><td>Gl 65B</td><td></td><td></td><td>1.650199</td><td>-17.949782</td><td>2.6267</td><td>3312.95</td><td>560.34</td><td>32.0</td><td>12.7</td><td>15.603</td><td>dM5.5e</td><td>nan</td><td>2.270631</td><td>1.047031</td><td>-0.81001</td><td>1.265e-05</td><td>5.226e-05</td><td>-3.3e-06</td><td>0.432021068741</td><td>-0.313282798266</td><td>1.606163483e-05</td><td>2.716614673e-06</td><td></td><td>--</td><td></td><td>2</td><td>118079</td><td>Gl  65</td><td>4.99804313578e-05</td><td></td><td>nan</td><td>nan</td></tr>\n",
       "<tr><td>32263</td><td>32349</td><td>48915</td><td>2491</td><td>Gl 244A</td><td>9Alp CMa</td><td>Sirius</td><td>6.752481</td><td>-16.716116</td><td>2.6371</td><td>-546.01</td><td>-1223.08</td><td>-9.4</td><td>-1.44</td><td>1.454</td><td>A0m...</td><td>0.009</td><td>-0.494323</td><td>2.476731</td><td>-0.758485</td><td>9.53e-06</td><td>-1.207e-05</td><td>-1.221e-05</td><td>1.7677953696</td><td>-0.291751258518</td><td>-2.6471311772e-06</td><td>-5.929659164e-06</td><td>Alp</td><td>9</td><td>CMa</td><td>1</td><td>32263</td><td>Gl 244</td><td>22.8244331217</td><td></td><td>-1.333</td><td>-1.523</td></tr>\n",
       "<tr><td>...</td><td>...</td><td>...</td><td>...</td><td>...</td><td>...</td><td>...</td><td>...</td><td>...</td><td>...</td><td>...</td><td>...</td><td>...</td><td>...</td><td>...</td><td>...</td><td>...</td><td>...</td><td>...</td><td>...</td><td>...</td><td>...</td><td>...</td><td>...</td><td>...</td><td>...</td><td>...</td><td>...</td><td>...</td><td>...</td><td>...</td><td>...</td><td>...</td><td>...</td><td>...</td><td>...</td><td>...</td></tr>\n",
       "<tr><td>117790</td><td>118158</td><td>224456</td><td>--</td><td></td><td></td><td></td><td>23.967885</td><td>50.836784</td><td>100000.0</td><td>5.78</td><td>-4.42</td><td>0.0</td><td>9.12</td><td>-10.88</td><td>B9</td><td>0.082</td><td>63150.934238</td><td>-530.952346</td><td>77535.008832</td><td>0.00168484</td><td>0.00278791</td><td>-0.00135318</td><td>6.27477769019</td><td>0.887269254498</td><td>2.80222307361e-08</td><td>-2.1428764e-08</td><td></td><td>--</td><td></td><td>1</td><td>117790</td><td></td><td>1958844.67351</td><td></td><td>9.192</td><td>9.062</td></tr>\n",
       "<tr><td>117804</td><td>118172</td><td>--</td><td>--</td><td></td><td></td><td></td><td>23.971323</td><td>56.471062</td><td>100000.0</td><td>-0.69</td><td>-1.9</td><td>0.0</td><td>10.77</td><td>-9.23</td><td></td><td>0.376</td><td>55234.251273</td><td>-414.680267</td><td>83360.695334</td><td>0.00076527</td><td>-0.00034025</td><td>-0.00050876</td><td>6.27567780673</td><td>0.9856059654</td><td>-3.34521439583e-09</td><td>-9.211459e-09</td><td></td><td>--</td><td></td><td>1</td><td>117804</td><td></td><td>428548.520397</td><td></td><td>10.843</td><td>10.703</td></tr>\n",
       "<tr><td>117806</td><td>118174</td><td>--</td><td>--</td><td></td><td></td><td></td><td>23.971661</td><td>61.22106</td><td>100000.0</td><td>-0.73</td><td>-2.14</td><td>0.0</td><td>11.09</td><td>-8.91</td><td>F8Ibvar</td><td>nan</td><td>48141.829287</td><td>-357.178752</td><td>87648.369616</td><td>0.00090662</td><td>-0.00036062</td><td>-0.00049944</td><td>6.27576617503</td><td>1.06850906622</td><td>-3.53913986806e-09</td><td>-1.0375012e-08</td><td></td><td>--</td><td>Cas</td><td>1</td><td>117806</td><td></td><td>319153.78551</td><td>CF</td><td>11.378</td><td>10.798</td></tr>\n",
       "<tr><td>117821</td><td>118189</td><td>224486</td><td>--</td><td></td><td></td><td></td><td>23.973604</td><td>-50.909061</td><td>100000.0</td><td>65.75</td><td>-33.3</td><td>0.0</td><td>9.09</td><td>-10.91</td><td>G8III</td><td>0.983</td><td>63053.80209</td><td>-435.640175</td><td>-77614.6137</td><td>-0.01230858</td><td>0.03195959</td><td>-0.01017897</td><td>6.27627476019</td><td>-0.888530736626</td><td>3.18764994965e-07</td><td>-1.61442955e-07</td><td></td><td>--</td><td></td><td>1</td><td>117821</td><td></td><td>2013724.24986</td><td></td><td>nan</td><td>nan</td></tr>\n",
       "<tr><td>117843</td><td>118211</td><td>224530</td><td>--</td><td></td><td></td><td></td><td>23.97851</td><td>-53.819767</td><td>100000.0</td><td>7.59</td><td>-3.93</td><td>0.0</td><td>9.04</td><td>-10.96</td><td>K3/K4</td><td>1.521</td><td>59031.789056</td><td>-332.110435</td><td>-80716.402197</td><td>-0.00151704</td><td>0.00368801</td><td>-0.00112466</td><td>6.27755918398</td><td>-0.939332135715</td><td>3.67973583542e-08</td><td>-1.9053177e-08</td><td></td><td>--</td><td></td><td>1</td><td>117843</td><td></td><td>2108628.14993</td><td></td><td>9.087</td><td>8.987</td></tr>\n",
       "<tr><td>117863</td><td>118231</td><td>224560</td><td>--</td><td></td><td></td><td></td><td>23.981833</td><td>26.628035</td><td>100000.0</td><td>23.95</td><td>-9.63</td><td>0.0</td><td>8.94</td><td>-11.06</td><td>K0</td><td>1.143</td><td>89392.493121</td><td>-425.156651</td><td>44819.654343</td><td>0.00214755</td><td>0.0116002</td><td>-0.0041732</td><td>6.27842915599</td><td>0.464746880484</td><td>1.16112876493e-07</td><td>-4.6687557e-08</td><td></td><td>--</td><td></td><td>1</td><td>117863</td><td></td><td>2312064.79018</td><td></td><td>nan</td><td>nan</td></tr>\n",
       "<tr><td>117875</td><td>118243</td><td>224572</td><td>9071</td><td></td><td>8Sig Cas</td><td></td><td>23.983482</td><td>55.754928</td><td>100000.0</td><td>9.26</td><td>-5.09</td><td>-13.0</td><td>4.88</td><td>-15.12</td><td>B1V...</td><td>-0.071</td><td>56272.856561</td><td>-243.331549</td><td>82663.815427</td><td>0.00205163</td><td>0.00448015</td><td>-0.00139953</td><td>6.27886089182</td><td>0.973107072076</td><td>4.48937468194e-08</td><td>-2.4677016e-08</td><td>Sig</td><td>8</td><td>Cas</td><td>1</td><td>117875</td><td></td><td>97274722.3777</td><td></td><td>nan</td><td>nan</td></tr>\n",
       "<tr><td>117894</td><td>118262</td><td>--</td><td>--</td><td></td><td></td><td></td><td>23.987198</td><td>63.819542</td><td>100000.0</td><td>-3.41</td><td>-1.17</td><td>0.0</td><td>9.19</td><td>-10.81</td><td>B3Ia</td><td>0.31</td><td>44119.732388</td><td>-147.882088</td><td>89740.890038</td><td>0.00050345</td><td>-0.00165477</td><td>-0.00025024</td><td>6.27983366734</td><td>1.11386112937</td><td>-1.65321465069e-08</td><td>-5.67232e-09</td><td></td><td>--</td><td></td><td>1</td><td>117894</td><td></td><td>1836538.34335</td><td></td><td>nan</td><td>nan</td></tr>\n",
       "<tr><td>117901</td><td>118269</td><td>224613</td><td>--</td><td></td><td></td><td></td><td>23.988699</td><td>41.128978</td><td>100000.0</td><td>9.87</td><td>-8.13</td><td>0.0</td><td>8.2</td><td>-11.8</td><td>K2</td><td>1.342</td><td>75322.751965</td><td>-222.847558</td><td>65775.629038</td><td>0.00260649</td><td>0.004777</td><td>-0.00296863</td><td>6.2802266097</td><td>0.717836091116</td><td>4.78511102708e-08</td><td>-3.9415352e-08</td><td></td><td>--</td><td></td><td>1</td><td>117901</td><td></td><td>4570881.89615</td><td></td><td>nan</td><td>nan</td></tr>\n",
       "<tr><td>117946</td><td>118314</td><td>--</td><td>--</td><td></td><td></td><td></td><td>23.997121</td><td>-37.857967</td><td>100000.0</td><td>-6.6</td><td>-4.6</td><td>0.0</td><td>9.27</td><td>-10.73</td><td>K0</td><td>1.147</td><td>78953.429346</td><td>-59.524799</td><td>-61370.615536</td><td>-0.00137094</td><td>-0.00319846</td><td>-0.00176062</td><td>6.28243145902</td><td>-0.660746177138</td><td>-3.19977029167e-08</td><td>-2.2301429e-08</td><td></td><td>--</td><td></td><td>1</td><td>117946</td><td></td><td>1706082.389</td><td></td><td>nan</td><td>nan</td></tr>\n",
       "</table>"
      ],
      "text/plain": [
       "<Table masked=True length=119614>\n",
       "  id    hip     hd     hr  ...        lum          var    var_min var_max\n",
       "int32  int32  int32  int16 ...      float64      string40 float32 float32\n",
       "------ ------ ------ ----- ... ----------------- -------- ------- -------\n",
       "     0     --     --    -- ...               1.0              nan     nan\n",
       " 70666  70890     --    -- ... 5.77032135333e-05    V645   11.079  10.939\n",
       " 71453  71681 128621  5460 ...    0.440960816451              nan     nan\n",
       " 71456  71683 128620  5459 ...     1.54312106566            0.113  -0.087\n",
       " 87665  87937     --    -- ... 0.000442588372363    V2500    9.59    9.49\n",
       "118720     --     --    -- ...  2.0758692705e-05              nan     nan\n",
       " 53879  54035  95735    -- ...  0.00570164272281              nan     nan\n",
       "118079     --     --    -- ... 5.63378150851e-05              nan     nan\n",
       "118080     --     --    -- ... 4.99804313578e-05              nan     nan\n",
       " 32263  32349  48915  2491 ...     22.8244331217           -1.333  -1.523\n",
       "   ...    ...    ...   ... ...               ...      ...     ...     ...\n",
       "117790 118158 224456    -- ...     1958844.67351            9.192   9.062\n",
       "117804 118172     --    -- ...     428548.520397           10.843  10.703\n",
       "117806 118174     --    -- ...      319153.78551    CF     11.378  10.798\n",
       "117821 118189 224486    -- ...     2013724.24986              nan     nan\n",
       "117843 118211 224530    -- ...     2108628.14993            9.087   8.987\n",
       "117863 118231 224560    -- ...     2312064.79018              nan     nan\n",
       "117875 118243 224572  9071 ...     97274722.3777              nan     nan\n",
       "117894 118262     --    -- ...     1836538.34335              nan     nan\n",
       "117901 118269 224613    -- ...     4570881.89615              nan     nan\n",
       "117946 118314     --    -- ...       1706082.389              nan     nan"
      ]
     },
     "execution_count": 6,
     "metadata": {},
     "output_type": "execute_result"
    }
   ],
   "source": [
    "data"
   ]
  },
  {
   "cell_type": "code",
   "execution_count": 7,
   "metadata": {
    "collapsed": false
   },
   "outputs": [
    {
     "name": "stdout",
     "output_type": "stream",
     "text": [
      "<class 'astropy.table.table.Table'>\n",
      "(<class 'astropy.table.column.MaskedColumn'>, 1e+20)\n",
      "(<class 'astropy.table.column.MaskedColumn'>, -2147483648)\n",
      "(<class 'astropy.table.column.MaskedColumn'>, array([ True, False, False, ..., False, False, False], dtype=bool))\n"
     ]
    }
   ],
   "source": [
    "print(type(data))\n",
    "print(type(data['ra']), data['ra'].fill_value)\n",
    "print(type(data['hip']), data['hip'].fill_value)\n",
    "print(type(data['hip']), data['hip']._mask)"
   ]
  },
  {
   "cell_type": "markdown",
   "metadata": {
    "collapsed": true
   },
   "source": [
    "A few things about this dataset:\n",
    "\n",
    "* RA is expressed in decimal hours;\n",
    "* The \"null\" for distance is 1e5;\n",
    "* The data as read into "
   ]
  },
  {
   "cell_type": "code",
   "execution_count": 8,
   "metadata": {
    "collapsed": true
   },
   "outputs": [],
   "source": [
    "px = data['ra']\n",
    "py = data['dec']\n",
    "pz = data['dist']\n",
    "ps = data['absmag']\n"
   ]
  },
  {
   "cell_type": "code",
   "execution_count": null,
   "metadata": {
    "collapsed": false
   },
   "outputs": [
    {
     "name": "stderr",
     "output_type": "stream",
     "text": [
      "/Users/aamn/anaconda/envs/3d/lib/python2.7/site-packages/mayavi/tools/figure.py:178: UserWarning: Scene Mayavi Scene 1 not managed by mlab\n",
      "  warnings.warn('Scene %s not managed by mlab' % name)\n"
     ]
    },
    {
     "ename": "AttributeError",
     "evalue": "'MaskedColumn' object has no attribute '_mask'",
     "output_type": "error",
     "traceback": [
      "\u001b[0;31m---------------------------------------------------------------------------\u001b[0m",
      "\u001b[0;31mAttributeError\u001b[0m                            Traceback (most recent call last)",
      "\u001b[0;32m<ipython-input-9-5874efb287cc>\u001b[0m in \u001b[0;36m<module>\u001b[0;34m()\u001b[0m\n\u001b[1;32m      1\u001b[0m \u001b[0mmlab\u001b[0m\u001b[0;34m.\u001b[0m\u001b[0mclose\u001b[0m\u001b[0;34m(\u001b[0m\u001b[0;36m1\u001b[0m\u001b[0;34m)\u001b[0m\u001b[0;34m\u001b[0m\u001b[0m\n\u001b[1;32m      2\u001b[0m \u001b[0mmlab\u001b[0m\u001b[0;34m.\u001b[0m\u001b[0mfigure\u001b[0m\u001b[0;34m(\u001b[0m\u001b[0;36m1\u001b[0m\u001b[0;34m,\u001b[0m\u001b[0msize\u001b[0m\u001b[0;34m=\u001b[0m\u001b[0;34m(\u001b[0m\u001b[0;36m600\u001b[0m\u001b[0;34m,\u001b[0m\u001b[0;36m300\u001b[0m\u001b[0;34m)\u001b[0m\u001b[0;34m)\u001b[0m\u001b[0;34m\u001b[0m\u001b[0m\n\u001b[0;32m----> 3\u001b[0;31m \u001b[0mmlab\u001b[0m\u001b[0;34m.\u001b[0m\u001b[0mpoints3d\u001b[0m\u001b[0;34m(\u001b[0m\u001b[0mpx\u001b[0m\u001b[0;34m,\u001b[0m \u001b[0mpy\u001b[0m\u001b[0;34m,\u001b[0m \u001b[0mpz\u001b[0m\u001b[0;34m,\u001b[0m  \u001b[0mextent\u001b[0m\u001b[0;34m=\u001b[0m\u001b[0;34m[\u001b[0m\u001b[0;36m0\u001b[0m\u001b[0;34m,\u001b[0m \u001b[0;36m1\u001b[0m\u001b[0;34m,\u001b[0m \u001b[0;36m0\u001b[0m\u001b[0;34m,\u001b[0m \u001b[0;36m0.5\u001b[0m\u001b[0;34m,\u001b[0m \u001b[0;36m0\u001b[0m\u001b[0;34m,\u001b[0m \u001b[0;36m1\u001b[0m\u001b[0;34m]\u001b[0m\u001b[0;34m,\u001b[0m \u001b[0mmode\u001b[0m\u001b[0;34m=\u001b[0m\u001b[0;34m'point'\u001b[0m\u001b[0;34m)\u001b[0m\u001b[0;34m\u001b[0m\u001b[0m\n\u001b[0m\u001b[1;32m      4\u001b[0m \u001b[0;34m\u001b[0m\u001b[0m\n\u001b[1;32m      5\u001b[0m \u001b[0;31m# figure\u001b[0m\u001b[0;34m\u001b[0m\u001b[0;34m\u001b[0m\u001b[0m\n",
      "\u001b[0;32m/Users/aamn/anaconda/envs/3d/lib/python2.7/site-packages/mayavi/tools/helper_functions.pyc\u001b[0m in \u001b[0;36mthe_function\u001b[0;34m(*args, **kwargs)\u001b[0m\n\u001b[1;32m     35\u001b[0m \u001b[0;34m\u001b[0m\u001b[0m\n\u001b[1;32m     36\u001b[0m     \u001b[0;32mdef\u001b[0m \u001b[0mthe_function\u001b[0m\u001b[0;34m(\u001b[0m\u001b[0;34m*\u001b[0m\u001b[0margs\u001b[0m\u001b[0;34m,\u001b[0m \u001b[0;34m**\u001b[0m\u001b[0mkwargs\u001b[0m\u001b[0;34m)\u001b[0m\u001b[0;34m:\u001b[0m\u001b[0;34m\u001b[0m\u001b[0m\n\u001b[0;32m---> 37\u001b[0;31m         \u001b[0;32mreturn\u001b[0m \u001b[0mpipeline\u001b[0m\u001b[0;34m(\u001b[0m\u001b[0;34m*\u001b[0m\u001b[0margs\u001b[0m\u001b[0;34m,\u001b[0m \u001b[0;34m**\u001b[0m\u001b[0mkwargs\u001b[0m\u001b[0;34m)\u001b[0m\u001b[0;34m\u001b[0m\u001b[0m\n\u001b[0m\u001b[1;32m     38\u001b[0m \u001b[0;34m\u001b[0m\u001b[0m\n\u001b[1;32m     39\u001b[0m     \u001b[0;32mif\u001b[0m \u001b[0mhasattr\u001b[0m\u001b[0;34m(\u001b[0m\u001b[0mpipeline\u001b[0m\u001b[0;34m,\u001b[0m \u001b[0;34m'doc'\u001b[0m\u001b[0;34m)\u001b[0m\u001b[0;34m:\u001b[0m\u001b[0;34m\u001b[0m\u001b[0m\n",
      "\u001b[0;32m/Users/aamn/anaconda/envs/3d/lib/python2.7/site-packages/mayavi/tools/helper_functions.pyc\u001b[0m in \u001b[0;36m__call__\u001b[0;34m(self, *args, **kwargs)\u001b[0m\n\u001b[1;32m     80\u001b[0m             \u001b[0mscene\u001b[0m\u001b[0;34m.\u001b[0m\u001b[0mdisable_render\u001b[0m \u001b[0;34m=\u001b[0m \u001b[0mTrue\u001b[0m\u001b[0;34m\u001b[0m\u001b[0m\n\u001b[1;32m     81\u001b[0m         \u001b[0;31m# Then call the real logic\u001b[0m\u001b[0;34m\u001b[0m\u001b[0;34m\u001b[0m\u001b[0m\n\u001b[0;32m---> 82\u001b[0;31m         \u001b[0moutput\u001b[0m \u001b[0;34m=\u001b[0m \u001b[0mself\u001b[0m\u001b[0;34m.\u001b[0m\u001b[0m__call_internal__\u001b[0m\u001b[0;34m(\u001b[0m\u001b[0;34m*\u001b[0m\u001b[0margs\u001b[0m\u001b[0;34m,\u001b[0m \u001b[0;34m**\u001b[0m\u001b[0mkwargs\u001b[0m\u001b[0;34m)\u001b[0m\u001b[0;34m\u001b[0m\u001b[0m\n\u001b[0m\u001b[1;32m     83\u001b[0m         \u001b[0;31m# And re-enable the rendering, if needed.\u001b[0m\u001b[0;34m\u001b[0m\u001b[0;34m\u001b[0m\u001b[0m\n\u001b[1;32m     84\u001b[0m         \u001b[0;32mif\u001b[0m \u001b[0mscene\u001b[0m \u001b[0;32mis\u001b[0m \u001b[0;32mnot\u001b[0m \u001b[0mNone\u001b[0m\u001b[0;34m:\u001b[0m\u001b[0;34m\u001b[0m\u001b[0m\n",
      "\u001b[0;32m/Users/aamn/anaconda/envs/3d/lib/python2.7/site-packages/mayavi/tools/helper_functions.pyc\u001b[0m in \u001b[0;36m__call_internal__\u001b[0;34m(self, *args, **kwargs)\u001b[0m\n\u001b[1;32m    175\u001b[0m         \u001b[0;32mif\u001b[0m \u001b[0mscale_factor\u001b[0m \u001b[0;34m==\u001b[0m \u001b[0;34m'auto'\u001b[0m\u001b[0;34m:\u001b[0m\u001b[0;34m\u001b[0m\u001b[0m\n\u001b[1;32m    176\u001b[0m             \u001b[0mkwargs\u001b[0m\u001b[0;34m[\u001b[0m\u001b[0;34m'scale_factor'\u001b[0m\u001b[0;34m]\u001b[0m \u001b[0;34m=\u001b[0m \u001b[0;36m1\u001b[0m\u001b[0;34m\u001b[0m\u001b[0m\n\u001b[0;32m--> 177\u001b[0;31m         \u001b[0mg\u001b[0m \u001b[0;34m=\u001b[0m \u001b[0mPipeline\u001b[0m\u001b[0;34m.\u001b[0m\u001b[0m__call_internal__\u001b[0m\u001b[0;34m(\u001b[0m\u001b[0mself\u001b[0m\u001b[0;34m,\u001b[0m \u001b[0;34m*\u001b[0m\u001b[0margs\u001b[0m\u001b[0;34m,\u001b[0m \u001b[0;34m**\u001b[0m\u001b[0mkwargs\u001b[0m\u001b[0;34m)\u001b[0m\u001b[0;34m\u001b[0m\u001b[0m\n\u001b[0m\u001b[1;32m    178\u001b[0m         \u001b[0;32mif\u001b[0m \u001b[0mscale_factor\u001b[0m \u001b[0;34m==\u001b[0m \u001b[0;34m'auto'\u001b[0m\u001b[0;34m:\u001b[0m\u001b[0;34m\u001b[0m\u001b[0m\n\u001b[1;32m    179\u001b[0m             \u001b[0mg\u001b[0m\u001b[0;34m.\u001b[0m\u001b[0mglyph\u001b[0m\u001b[0;34m.\u001b[0m\u001b[0mglyph\u001b[0m\u001b[0;34m.\u001b[0m\u001b[0mscale_factor\u001b[0m \u001b[0;34m=\u001b[0m\u001b[0;31m \u001b[0m\u001b[0;31m\\\u001b[0m\u001b[0;34m\u001b[0m\u001b[0m\n",
      "\u001b[0;32m/Users/aamn/anaconda/envs/3d/lib/python2.7/site-packages/mayavi/tools/helper_functions.pyc\u001b[0m in \u001b[0;36m__call_internal__\u001b[0;34m(self, *args, **kwargs)\u001b[0m\n\u001b[1;32m     90\u001b[0m         the last object created by the pipeline.\"\"\"\n\u001b[1;32m     91\u001b[0m         \u001b[0mself\u001b[0m\u001b[0;34m.\u001b[0m\u001b[0mstore_kwargs\u001b[0m\u001b[0;34m(\u001b[0m\u001b[0mkwargs\u001b[0m\u001b[0;34m)\u001b[0m\u001b[0;34m\u001b[0m\u001b[0m\n\u001b[0;32m---> 92\u001b[0;31m         \u001b[0mself\u001b[0m\u001b[0;34m.\u001b[0m\u001b[0msource\u001b[0m \u001b[0;34m=\u001b[0m \u001b[0mself\u001b[0m\u001b[0;34m.\u001b[0m\u001b[0m_source_function\u001b[0m\u001b[0;34m(\u001b[0m\u001b[0;34m*\u001b[0m\u001b[0margs\u001b[0m\u001b[0;34m,\u001b[0m \u001b[0;34m**\u001b[0m\u001b[0mkwargs\u001b[0m\u001b[0;34m)\u001b[0m\u001b[0;34m\u001b[0m\u001b[0m\n\u001b[0m\u001b[1;32m     93\u001b[0m         \u001b[0;31m# Copy the pipeline so as not to modify it for the next call\u001b[0m\u001b[0;34m\u001b[0m\u001b[0;34m\u001b[0m\u001b[0m\n\u001b[1;32m     94\u001b[0m         \u001b[0mself\u001b[0m\u001b[0;34m.\u001b[0m\u001b[0mpipeline\u001b[0m \u001b[0;34m=\u001b[0m \u001b[0mself\u001b[0m\u001b[0;34m.\u001b[0m\u001b[0m_pipeline\u001b[0m\u001b[0;34m[\u001b[0m\u001b[0;34m:\u001b[0m\u001b[0;34m]\u001b[0m\u001b[0;34m\u001b[0m\u001b[0m\n",
      "\u001b[0;32m/Users/aamn/anaconda/envs/3d/lib/python2.7/site-packages/mayavi/tools/sources.pyc\u001b[0m in \u001b[0;36mscalar_scatter\u001b[0;34m(*args, **kwargs)\u001b[0m\n\u001b[1;32m   1089\u001b[0m \u001b[0;34m\u001b[0m\u001b[0m\n\u001b[1;32m   1090\u001b[0m     \u001b[0mdata_source\u001b[0m \u001b[0;34m=\u001b[0m \u001b[0mMGlyphSource\u001b[0m\u001b[0;34m(\u001b[0m\u001b[0;34m)\u001b[0m\u001b[0;34m\u001b[0m\u001b[0m\n\u001b[0;32m-> 1091\u001b[0;31m     \u001b[0mdata_source\u001b[0m\u001b[0;34m.\u001b[0m\u001b[0mreset\u001b[0m\u001b[0;34m(\u001b[0m\u001b[0mx\u001b[0m\u001b[0;34m=\u001b[0m\u001b[0mx\u001b[0m\u001b[0;34m,\u001b[0m \u001b[0my\u001b[0m\u001b[0;34m=\u001b[0m\u001b[0my\u001b[0m\u001b[0;34m,\u001b[0m \u001b[0mz\u001b[0m\u001b[0;34m=\u001b[0m\u001b[0mz\u001b[0m\u001b[0;34m,\u001b[0m \u001b[0mscalars\u001b[0m\u001b[0;34m=\u001b[0m\u001b[0ms\u001b[0m\u001b[0;34m)\u001b[0m\u001b[0;34m\u001b[0m\u001b[0m\n\u001b[0m\u001b[1;32m   1092\u001b[0m \u001b[0;34m\u001b[0m\u001b[0m\n\u001b[1;32m   1093\u001b[0m     \u001b[0mname\u001b[0m \u001b[0;34m=\u001b[0m \u001b[0mkwargs\u001b[0m\u001b[0;34m.\u001b[0m\u001b[0mpop\u001b[0m\u001b[0;34m(\u001b[0m\u001b[0;34m'name'\u001b[0m\u001b[0;34m,\u001b[0m \u001b[0;34m'ScalarScatter'\u001b[0m\u001b[0;34m)\u001b[0m\u001b[0;34m\u001b[0m\u001b[0m\n",
      "\u001b[0;32m/Users/aamn/anaconda/envs/3d/lib/python2.7/site-packages/mayavi/tools/sources.pyc\u001b[0m in \u001b[0;36mreset\u001b[0;34m(self, **traits)\u001b[0m\n\u001b[1;32m    168\u001b[0m \u001b[0;34m\u001b[0m\u001b[0m\n\u001b[1;32m    169\u001b[0m         \u001b[0;32melse\u001b[0m\u001b[0;34m:\u001b[0m\u001b[0;34m\u001b[0m\u001b[0m\n\u001b[0;32m--> 170\u001b[0;31m             \u001b[0mpoints\u001b[0m \u001b[0;34m=\u001b[0m \u001b[0mnp\u001b[0m\u001b[0;34m.\u001b[0m\u001b[0mc_\u001b[0m\u001b[0;34m[\u001b[0m\u001b[0mx\u001b[0m\u001b[0;34m.\u001b[0m\u001b[0mravel\u001b[0m\u001b[0;34m(\u001b[0m\u001b[0;34m)\u001b[0m\u001b[0;34m,\u001b[0m \u001b[0my\u001b[0m\u001b[0;34m.\u001b[0m\u001b[0mravel\u001b[0m\u001b[0;34m(\u001b[0m\u001b[0;34m)\u001b[0m\u001b[0;34m,\u001b[0m \u001b[0mz\u001b[0m\u001b[0;34m.\u001b[0m\u001b[0mravel\u001b[0m\u001b[0;34m(\u001b[0m\u001b[0;34m)\u001b[0m\u001b[0;34m]\u001b[0m\u001b[0;34m.\u001b[0m\u001b[0mravel\u001b[0m\u001b[0;34m(\u001b[0m\u001b[0;34m)\u001b[0m\u001b[0;34m\u001b[0m\u001b[0m\n\u001b[0m\u001b[1;32m    171\u001b[0m             \u001b[0mpoints\u001b[0m\u001b[0;34m.\u001b[0m\u001b[0mshape\u001b[0m \u001b[0;34m=\u001b[0m \u001b[0;34m(\u001b[0m\u001b[0mpoints\u001b[0m\u001b[0;34m.\u001b[0m\u001b[0msize\u001b[0m \u001b[0;34m/\u001b[0m \u001b[0;36m3\u001b[0m\u001b[0;34m,\u001b[0m \u001b[0;36m3\u001b[0m\u001b[0;34m)\u001b[0m\u001b[0;34m\u001b[0m\u001b[0m\n\u001b[1;32m    172\u001b[0m             \u001b[0mself\u001b[0m\u001b[0;34m.\u001b[0m\u001b[0mset\u001b[0m\u001b[0;34m(\u001b[0m\u001b[0mpoints\u001b[0m\u001b[0;34m=\u001b[0m\u001b[0mpoints\u001b[0m\u001b[0;34m,\u001b[0m \u001b[0mtrait_change_notify\u001b[0m\u001b[0;34m=\u001b[0m\u001b[0mFalse\u001b[0m\u001b[0;34m)\u001b[0m\u001b[0;34m\u001b[0m\u001b[0m\n",
      "\u001b[0;32m/Users/aamn/anaconda/envs/3d/lib/python2.7/site-packages/numpy/ma/core.pyc\u001b[0m in \u001b[0;36mravel\u001b[0;34m(self)\u001b[0m\n\u001b[1;32m   4070\u001b[0m         \u001b[0mr\u001b[0m \u001b[0;34m=\u001b[0m \u001b[0mndarray\u001b[0m\u001b[0;34m.\u001b[0m\u001b[0mravel\u001b[0m\u001b[0;34m(\u001b[0m\u001b[0mself\u001b[0m\u001b[0;34m.\u001b[0m\u001b[0m_data\u001b[0m\u001b[0;34m)\u001b[0m\u001b[0;34m.\u001b[0m\u001b[0mview\u001b[0m\u001b[0;34m(\u001b[0m\u001b[0mtype\u001b[0m\u001b[0;34m(\u001b[0m\u001b[0mself\u001b[0m\u001b[0;34m)\u001b[0m\u001b[0;34m)\u001b[0m\u001b[0;34m\u001b[0m\u001b[0m\n\u001b[1;32m   4071\u001b[0m         \u001b[0mr\u001b[0m\u001b[0;34m.\u001b[0m\u001b[0m_update_from\u001b[0m\u001b[0;34m(\u001b[0m\u001b[0mself\u001b[0m\u001b[0;34m)\u001b[0m\u001b[0;34m\u001b[0m\u001b[0m\n\u001b[0;32m-> 4072\u001b[0;31m         \u001b[0;32mif\u001b[0m \u001b[0mself\u001b[0m\u001b[0;34m.\u001b[0m\u001b[0m_mask\u001b[0m \u001b[0;32mis\u001b[0m \u001b[0;32mnot\u001b[0m \u001b[0mnomask\u001b[0m\u001b[0;34m:\u001b[0m\u001b[0;34m\u001b[0m\u001b[0m\n\u001b[0m\u001b[1;32m   4073\u001b[0m             \u001b[0mr\u001b[0m\u001b[0;34m.\u001b[0m\u001b[0m_mask\u001b[0m \u001b[0;34m=\u001b[0m \u001b[0mndarray\u001b[0m\u001b[0;34m.\u001b[0m\u001b[0mravel\u001b[0m\u001b[0;34m(\u001b[0m\u001b[0mself\u001b[0m\u001b[0;34m.\u001b[0m\u001b[0m_mask\u001b[0m\u001b[0;34m)\u001b[0m\u001b[0;34m.\u001b[0m\u001b[0mreshape\u001b[0m\u001b[0;34m(\u001b[0m\u001b[0mr\u001b[0m\u001b[0;34m.\u001b[0m\u001b[0mshape\u001b[0m\u001b[0;34m)\u001b[0m\u001b[0;34m\u001b[0m\u001b[0m\n\u001b[1;32m   4074\u001b[0m         \u001b[0;32melse\u001b[0m\u001b[0;34m:\u001b[0m\u001b[0;34m\u001b[0m\u001b[0m\n",
      "\u001b[0;31mAttributeError\u001b[0m: 'MaskedColumn' object has no attribute '_mask'"
     ]
    },
    {
     "name": "stdout",
     "output_type": "stream",
     "text": [
      "> \u001b[0;32m/Users/aamn/anaconda/envs/3d/lib/python2.7/site-packages/numpy/ma/core.py\u001b[0m(4072)\u001b[0;36mravel\u001b[0;34m()\u001b[0m\n",
      "\u001b[0;32m   4071 \u001b[0;31m        \u001b[0mr\u001b[0m\u001b[0;34m.\u001b[0m\u001b[0m_update_from\u001b[0m\u001b[0;34m(\u001b[0m\u001b[0mself\u001b[0m\u001b[0;34m)\u001b[0m\u001b[0;34m\u001b[0m\u001b[0m\n",
      "\u001b[0m\u001b[0;32m-> 4072 \u001b[0;31m        \u001b[0;32mif\u001b[0m \u001b[0mself\u001b[0m\u001b[0;34m.\u001b[0m\u001b[0m_mask\u001b[0m \u001b[0;32mis\u001b[0m \u001b[0;32mnot\u001b[0m \u001b[0mnomask\u001b[0m\u001b[0;34m:\u001b[0m\u001b[0;34m\u001b[0m\u001b[0m\n",
      "\u001b[0m\u001b[0;32m   4073 \u001b[0;31m            \u001b[0mr\u001b[0m\u001b[0;34m.\u001b[0m\u001b[0m_mask\u001b[0m \u001b[0;34m=\u001b[0m \u001b[0mndarray\u001b[0m\u001b[0;34m.\u001b[0m\u001b[0mravel\u001b[0m\u001b[0;34m(\u001b[0m\u001b[0mself\u001b[0m\u001b[0;34m.\u001b[0m\u001b[0m_mask\u001b[0m\u001b[0;34m)\u001b[0m\u001b[0;34m.\u001b[0m\u001b[0mreshape\u001b[0m\u001b[0;34m(\u001b[0m\u001b[0mr\u001b[0m\u001b[0;34m.\u001b[0m\u001b[0mshape\u001b[0m\u001b[0;34m)\u001b[0m\u001b[0;34m\u001b[0m\u001b[0m\n",
      "\u001b[0m\n",
      "ipdb> type(self)\n",
      "<class 'astropy.table.column.MaskedColumn'>\n",
      "ipdb> type(r)\n",
      "<class 'astropy.table.column.MaskedColumn'>\n",
      "ipdb> type(r._mask)\n",
      "<type 'numpy.bool_'>\n",
      "ipdb> type(self._mask)\n",
      "*** AttributeError: 'MaskedColumn' object has no attribute '_mask'\n"
     ]
    }
   ],
   "source": [
    "mlab.close(1)\n",
    "mlab.figure(1,size=(600,300))\n",
    "mlab.points3d(px, py, pz,  extent=[0, 1, 0, 0.5, 0, 1], mode='point')\n",
    "\n",
    "# figure\n",
    "mlab.outline(color=(0,0,0),line_width = 2.0)\n",
    "mlab.axes(color = (0,0,0), ranges = [360, 0.0, -90, 90, 1, 100], nb_labels=5)\n",
    "mlab.xlabel(\"RA\")\n",
    "mlab.ylabel(\"Dec\")\n",
    "mlab.zlabel(\"Distance (pc)\")\n",
    "mlab.title(\"HYD v3\", height=0.9, opacity = 0.5, size=0.3)\n",
    "mlab.colorbar(orientation=\"vertical\",nb_labels=7)\n",
    "\n",
    "# save to X3D file\n",
    "mlab.savefig('hydv3_simple.x3d')\n",
    "mlab.show()"
   ]
  },
  {
   "cell_type": "code",
   "execution_count": null,
   "metadata": {
    "collapsed": false
   },
   "outputs": [],
   "source": [
    "px._mask"
   ]
  },
  {
   "cell_type": "code",
   "execution_count": null,
   "metadata": {
    "collapsed": true
   },
   "outputs": [],
   "source": []
  }
 ],
 "metadata": {
  "kernelspec": {
   "display_name": "Python 2",
   "language": "python",
   "name": "python2"
  },
  "language_info": {
   "codemirror_mode": {
    "name": "ipython",
    "version": 2
   },
   "file_extension": ".py",
   "mimetype": "text/x-python",
   "name": "python",
   "nbconvert_exporter": "python",
   "pygments_lexer": "ipython2",
   "version": "2.7.9"
  }
 },
 "nbformat": 4,
 "nbformat_minor": 0
}
