{
 "cells": [
  {
   "cell_type": "markdown",
   "metadata": {},
   "source": [
    "An attempt to render the HYG Database in X3D(OM). \n",
    "\n",
    "Based upon Michael Chang's [Google Chrome \"100,000\" Stars Experiment](http://www.html5rocks.com/en/tutorials/casestudies/100000stars/)\n",
    "\n",
    "History: \n",
    "> April 2015: Initial version, HYD v3, August Muench (august.fly@gmail.com)\n",
    "\n"
   ]
  },
  {
   "cell_type": "code",
   "execution_count": 1,
   "metadata": {
    "collapsed": false
   },
   "outputs": [
    {
     "name": "stdout",
     "output_type": "stream",
     "text": [
      "Automatic pdb calling has been turned ON\n"
     ]
    }
   ],
   "source": [
    "%pdb"
   ]
  },
  {
   "cell_type": "code",
   "execution_count": 2,
   "metadata": {
    "collapsed": false
   },
   "outputs": [
    {
     "name": "stderr",
     "output_type": "stream",
     "text": [
      "WARNING:traits.has_traits:DEPRECATED: traits.has_traits.wrapped_class, 'the 'implements' class advisor has been deprecated. Use the 'provides' class decorator.\n"
     ]
    }
   ],
   "source": [
    "# mayavi 4.4.0\n",
    "from mayavi import mlab"
   ]
  },
  {
   "cell_type": "code",
   "execution_count": 3,
   "metadata": {
    "collapsed": true
   },
   "outputs": [],
   "source": [
    "# astropy 1.0.1\n",
    "from astropy.table import Table"
   ]
  },
  {
   "cell_type": "markdown",
   "metadata": {},
   "source": [
    "The HYD data were downloaded as a gzipped CSV file from the [Astronomy Nexus](http://astronexus.com/hyg/) website. \n",
    "\n",
    "> MD5 (hygdata_v3.csv.gz) = abbb1109c62d2c759b765e3315ffa901\n",
    "\n",
    "I tried two examples inports with this data. First as the straight CSV in astropy; then using a modified version with fewer columns and wrapped as a FITS objects (using TopCat). \n"
   ]
  },
  {
   "cell_type": "code",
   "execution_count": 4,
   "metadata": {
    "collapsed": false
   },
   "outputs": [],
   "source": [
    "data = Table.read(\"hygdata_v3.csv\")"
   ]
  },
  {
   "cell_type": "code",
   "execution_count": 5,
   "metadata": {
    "collapsed": false
   },
   "outputs": [
    {
     "data": {
      "text/html": [
       "&lt;Table masked=True length=119614&gt;\n",
       "<table id=\"table4804260496\">\n",
       "<thead><tr><th>id</th><th>hip</th><th>hd</th><th>hr</th><th>gl</th><th>bf</th><th>proper</th><th>ra</th><th>dec</th><th>dist</th><th>pmra</th><th>pmdec</th><th>rv</th><th>mag</th><th>absmag</th><th>spect</th><th>ci</th><th>x</th><th>y</th><th>z</th><th>vx</th><th>vy</th><th>vz</th><th>rarad</th><th>decrad</th><th>pmrarad</th><th>pmdecrad</th><th>bayer</th><th>flam</th><th>con</th><th>comp</th><th>comp_primary</th><th>base</th><th>lum</th><th>var</th><th>var_min</th><th>var_max</th></tr></thead>\n",
       "<thead><tr><th>int64</th><th>int64</th><th>int64</th><th>int64</th><th>string72</th><th>string80</th><th>string192</th><th>float64</th><th>float64</th><th>float64</th><th>float64</th><th>float64</th><th>float64</th><th>float64</th><th>float64</th><th>string96</th><th>float64</th><th>float64</th><th>float64</th><th>float64</th><th>float64</th><th>float64</th><th>float64</th><th>float64</th><th>float64</th><th>float64</th><th>float64</th><th>string40</th><th>int64</th><th>string24</th><th>int64</th><th>int64</th><th>string64</th><th>float64</th><th>string40</th><th>float64</th><th>float64</th></tr></thead>\n",
       "<tr><td>0</td><td>--</td><td>--</td><td>--</td><td>--</td><td>--</td><td>Sol</td><td>0.0</td><td>0.0</td><td>0.0</td><td>0.0</td><td>0.0</td><td>0.0</td><td>-26.7</td><td>4.85</td><td>G2V</td><td>0.656</td><td>5e-06</td><td>0.0</td><td>0.0</td><td>0.0</td><td>0.0</td><td>0.0</td><td>0.0</td><td>0.0</td><td>0.0</td><td>0.0</td><td>--</td><td>--</td><td>--</td><td>1</td><td>0</td><td>--</td><td>1.0</td><td>--</td><td>--</td><td>--</td></tr>\n",
       "<tr><td>1</td><td>1</td><td>224700</td><td>--</td><td>--</td><td>--</td><td>--</td><td>6e-05</td><td>1.089009</td><td>219.7802</td><td>-5.2</td><td>-1.88</td><td>0.0</td><td>9.1</td><td>2.39</td><td>F5</td><td>0.482</td><td>219.740502</td><td>0.003449</td><td>4.177065</td><td>4e-08</td><td>-5.54e-06</td><td>-2e-06</td><td>1.56934097753e-05</td><td>0.0190067882482</td><td>-2.52103113889e-08</td><td>-9.114497e-09</td><td>--</td><td>--</td><td>--</td><td>1</td><td>1</td><td>--</td><td>9.63829023624</td><td>--</td><td>--</td><td>--</td></tr>\n",
       "<tr><td>2</td><td>2</td><td>224690</td><td>--</td><td>--</td><td>--</td><td>--</td><td>0.000283</td><td>-19.49884</td><td>47.9616</td><td>181.21</td><td>-0.93</td><td>0.0</td><td>9.27</td><td>5.866</td><td>K3V</td><td>0.999</td><td>45.210918</td><td>0.003365</td><td>-16.008996</td><td>-7e-08</td><td>4.213e-05</td><td>-2e-07</td><td>7.39611451172e-05</td><td>-0.340318952452</td><td>8.78530870535e-07</td><td>-4.508767e-09</td><td>--</td><td>--</td><td>--</td><td>1</td><td>2</td><td>--</td><td>0.39228346254</td><td>--</td><td>--</td><td>--</td></tr>\n",
       "<tr><td>3</td><td>3</td><td>224699</td><td>--</td><td>--</td><td>--</td><td>--</td><td>0.000335</td><td>38.859279</td><td>442.4779</td><td>5.24</td><td>-2.91</td><td>0.0</td><td>6.61</td><td>-1.619</td><td>B9</td><td>-0.019</td><td>344.552785</td><td>0.030213</td><td>277.614965</td><td>3.92e-06</td><td>1.124e-05</td><td>-4.86e-06</td><td>8.76262870725e-05</td><td>0.678222362554</td><td>2.54042368611e-08</td><td>-1.4108078e-08</td><td>--</td><td>--</td><td>--</td><td>1</td><td>3</td><td>--</td><td>386.901131655</td><td>--</td><td>--</td><td>--</td></tr>\n",
       "<tr><td>4</td><td>4</td><td>224707</td><td>--</td><td>--</td><td>--</td><td>--</td><td>0.000569</td><td>-51.893546</td><td>134.2282</td><td>62.85</td><td>0.16</td><td>0.0</td><td>8.06</td><td>2.421</td><td>F0V</td><td>0.37</td><td>82.835513</td><td>0.012476</td><td>-105.61954</td><td>8e-08</td><td>4.09e-05</td><td>6e-08</td><td>0.000148954172235</td><td>-0.905713232213</td><td>3.04705398229e-07</td><td>7.75701e-10</td><td>--</td><td>--</td><td>--</td><td>1</td><td>4</td><td>--</td><td>9.36698877952</td><td>--</td><td>--</td><td>--</td></tr>\n",
       "<tr><td>5</td><td>5</td><td>224705</td><td>--</td><td>--</td><td>--</td><td>--</td><td>0.000665</td><td>-40.591202</td><td>257.732</td><td>2.53</td><td>9.07</td><td>0.0</td><td>8.55</td><td>1.494</td><td>G8III</td><td>0.902</td><td>195.714261</td><td>0.034068</td><td>-167.695291</td><td>7.37e-06</td><td>3.16e-06</td><td>8.61e-06</td><td>0.000174033325629</td><td>-0.70845012724</td><td>1.22657861181e-08</td><td>4.39726e-08</td><td>--</td><td>--</td><td>--</td><td>1</td><td>5</td><td>--</td><td>21.9988510905</td><td>--</td><td>--</td><td>--</td></tr>\n",
       "<tr><td>6</td><td>6</td><td>--</td><td>--</td><td>--</td><td>--</td><td>--</td><td>0.001246</td><td>3.946458</td><td>55.0358</td><td>226.29</td><td>-12.84</td><td>0.0</td><td>12.31</td><td>8.607</td><td>M0V:</td><td>1.336</td><td>54.905296</td><td>0.017912</td><td>3.787796</td><td>2.2e-07</td><td>6.037e-05</td><td>-3.42e-06</td><td>0.00032622449268</td><td>0.0688786803118</td><td>1.09708487773e-06</td><td>-6.2250076e-08</td><td>--</td><td>--</td><td>--</td><td>1</td><td>6</td><td>--</td><td>0.0314195528464</td><td>--</td><td>12.462</td><td>12.162</td></tr>\n",
       "<tr><td>7</td><td>7</td><td>--</td><td>--</td><td>--</td><td>--</td><td>--</td><td>0.00147</td><td>20.036114</td><td>57.8704</td><td>-208.12</td><td>-200.79</td><td>0.0</td><td>9.64</td><td>5.828</td><td>G0</td><td>0.74</td><td>54.367897</td><td>0.020886</td><td>19.827115</td><td>1.932e-05</td><td>-5.838e-05</td><td>-5.292e-05</td><td>0.00038472330047</td><td>0.349696160248</td><td>-1.00899423197e-06</td><td>-9.73457389e-07</td><td>--</td><td>--</td><td>--</td><td>1</td><td>7</td><td>--</td><td>0.406256198187</td><td>--</td><td>--</td><td>--</td></tr>\n",
       "<tr><td>8</td><td>8</td><td>224709</td><td>--</td><td>--</td><td>--</td><td>--</td><td>0.001823</td><td>25.886461</td><td>200.8032</td><td>19.09</td><td>-5.66</td><td>-31.0</td><td>9.05</td><td>2.536</td><td>M6e-M8.5e Tc</td><td>1.102</td><td>180.654532</td><td>0.086213</td><td>87.668389</td><td>-2.613e-05</td><td>1.857e-05</td><td>-1.88e-05</td><td>0.000477137820652</td><td>0.451803969896</td><td>9.25509316181e-08</td><td>-2.7440454e-08</td><td>--</td><td>--</td><td>Peg</td><td>1</td><td>8</td><td>--</td><td>8.4255837534</td><td>Z</td><td>11.748</td><td>7.648</td></tr>\n",
       "<tr><td>9</td><td>9</td><td>224708</td><td>--</td><td>--</td><td>--</td><td>--</td><td>0.002355</td><td>36.585958</td><td>420.1681</td><td>-6.3</td><td>8.42</td><td>0.0</td><td>8.59</td><td>0.473</td><td>G5</td><td>1.067</td><td>337.379614</td><td>0.207994</td><td>250.431996</td><td>-1.021e-05</td><td>-1.284e-05</td><td>1.377e-05</td><td>0.000616562746459</td><td>0.638545430186</td><td>-3.0543261875e-08</td><td>4.0821311e-08</td><td>--</td><td>--</td><td>--</td><td>1</td><td>9</td><td>--</td><td>56.3378150851</td><td>--</td><td>--</td><td>--</td></tr>\n",
       "<tr><td>...</td><td>...</td><td>...</td><td>...</td><td>...</td><td>...</td><td>...</td><td>...</td><td>...</td><td>...</td><td>...</td><td>...</td><td>...</td><td>...</td><td>...</td><td>...</td><td>...</td><td>...</td><td>...</td><td>...</td><td>...</td><td>...</td><td>...</td><td>...</td><td>...</td><td>...</td><td>...</td><td>...</td><td>...</td><td>...</td><td>...</td><td>...</td><td>...</td><td>...</td><td>...</td><td>...</td><td>...</td></tr>\n",
       "<tr><td>119606</td><td>--</td><td>--</td><td>--</td><td>NN 4376</td><td>--</td><td>--</td><td>23.923761</td><td>-3.984868</td><td>25.0</td><td>519.74</td><td>16.33</td><td>0.0</td><td>13.95</td><td>11.96</td><td>m</td><td>--</td><td>24.934594</td><td>-0.49774</td><td>-1.737326</td><td>1.4e-06</td><td>6.297e-05</td><td>1.97e-06</td><td>6.26322587153</td><td>-0.0695490587691</td><td>2.51977062332e-06</td><td>7.9184618e-08</td><td>--</td><td>--</td><td>--</td><td>1</td><td>119606</td><td>--</td><td>0.00143218789927</td><td>--</td><td>--</td><td>--</td></tr>\n",
       "<tr><td>119607</td><td>--</td><td>--</td><td>--</td><td>NN 4378A</td><td>--</td><td>--</td><td>23.955733</td><td>-12.979755</td><td>17.8571</td><td>188.96</td><td>19.86</td><td>0.0</td><td>12.93</td><td>11.671</td><td>M4</td><td>--</td><td>17.399674</td><td>-0.201634</td><td>-4.010825</td><td>5.8e-07</td><td>1.635e-05</td><td>1.68e-06</td><td>6.2715962602</td><td>-0.2265394618</td><td>9.16103930778e-07</td><td>9.6283996e-08</td><td>--</td><td>--</td><td>--</td><td>1</td><td>119607</td><td>NN 4378</td><td>0.00186895997165</td><td>--</td><td>--</td><td>--</td></tr>\n",
       "<tr><td>119608</td><td>--</td><td>--</td><td>--</td><td>NN 4379B</td><td>--</td><td>--</td><td>23.955456</td><td>-12.978089</td><td>17.8571</td><td>188.96</td><td>19.86</td><td>0.0</td><td>12.98</td><td>11.721</td><td>M4</td><td>--</td><td>17.399776</td><td>-0.2029</td><td>-4.010319</td><td>5.8e-07</td><td>1.635e-05</td><td>1.68e-06</td><td>6.2715236202</td><td>-0.2265103808</td><td>9.16103930778e-07</td><td>9.6283996e-08</td><td>--</td><td>--</td><td>--</td><td>2</td><td>119608</td><td>NN 4379</td><td>0.0017848429165</td><td>--</td><td>--</td><td>--</td></tr>\n",
       "<tr><td>119609</td><td>--</td><td>--</td><td>--</td><td>GJ 1292</td><td>--</td><td>--</td><td>23.962079</td><td>23.303973</td><td>13.8696</td><td>1032.38</td><td>-1032.38</td><td>0.0</td><td>11.72</td><td>11.01</td><td>k-m</td><td>1.54</td><td>12.737479</td><td>-0.126174</td><td>5.486942</td><td>2.818e-05</td><td>6.913e-05</td><td>-6.374e-05</td><td>6.27325771197</td><td>0.406731061238</td><td>5.00511947532e-06</td><td>-5.005095234e-06</td><td>--</td><td>--</td><td>--</td><td>1</td><td>119609</td><td>--</td><td>0.003435579479</td><td>--</td><td>--</td><td>--</td></tr>\n",
       "<tr><td>119610</td><td>--</td><td>--</td><td>--</td><td>NN 4380</td><td>--</td><td>--</td><td>23.962387</td><td>19.770238</td><td>18.1818</td><td>132.31</td><td>-461.4</td><td>0.0</td><td>13.01</td><td>11.712</td><td>m</td><td>--</td><td>17.109274</td><td>-0.168446</td><td>6.149978</td><td>1.387e-05</td><td>1.153e-05</td><td>-3.827e-05</td><td>6.27333828885</td><td>0.345055754272</td><td>6.41456980743e-07</td><td>-2.236954562e-06</td><td>--</td><td>--</td><td>--</td><td>1</td><td>119610</td><td>--</td><td>0.00179969951658</td><td>--</td><td>--</td><td>--</td></tr>\n",
       "<tr><td>119611</td><td>--</td><td>--</td><td>--</td><td>NN 4381</td><td>--</td><td>--</td><td>23.963895</td><td>38.629391</td><td>16.9492</td><td>-162.63</td><td>-162.63</td><td>0.0</td><td>12.64</td><td>11.494</td><td>m</td><td>--</td><td>13.240128</td><td>-0.125297</td><td>10.581054</td><td>8.22e-06</td><td>-1.344e-05</td><td>-1.044e-05</td><td>6.27373316538</td><td>0.674210059406</td><td>-7.88452488687e-07</td><td>-7.88471881e-07</td><td>--</td><td>--</td><td>--</td><td>1</td><td>119611</td><td>--</td><td>0.00219988510905</td><td>--</td><td>--</td><td>--</td></tr>\n",
       "<tr><td>119612</td><td>--</td><td>--</td><td>--</td><td>NN 4385</td><td>--</td><td>--</td><td>23.996567</td><td>47.762093</td><td>16.7224</td><td>864.68</td><td>-210.78</td><td>0.0</td><td>16.1</td><td>14.984</td><td>m</td><td>1.87</td><td>11.240971</td><td>-0.008954</td><td>12.380596</td><td>1.273e-05</td><td>7.008e-05</td><td>-1.149e-05</td><td>6.28228659535</td><td>0.833605784274</td><td>4.19208693303e-06</td><td>-1.021914516e-06</td><td>--</td><td>--</td><td>--</td><td>1</td><td>119612</td><td>--</td><td>8.83893621739e-05</td><td>--</td><td>--</td><td>--</td></tr>\n",
       "<tr><td>119613</td><td>--</td><td>--</td><td>--</td><td>NN 4386</td><td>--</td><td>--</td><td>23.996218</td><td>-44.067905</td><td>18.5185</td><td>-18.83</td><td>269.34</td><td>0.0</td><td>12.82</td><td>11.482</td><td>M7</td><td>1.64</td><td>13.305832</td><td>-0.013199</td><td>-12.87981</td><td>1.682e-05</td><td>-1.71e-06</td><td>1.737e-05</td><td>6.28219519848</td><td>-0.769130033657</td><td>-9.12904160486e-08</td><td>1.305806863e-06</td><td>--</td><td>--</td><td>--</td><td>1</td><td>119613</td><td>--</td><td>0.00222433399849</td><td>--</td><td>--</td><td>--</td></tr>\n",
       "<tr><td>119614</td><td>--</td><td>--</td><td>--</td><td>NN 4387</td><td>--</td><td>--</td><td>23.997386</td><td>-34.111986</td><td>12.8205</td><td>715.88</td><td>-624.51</td><td>0.0</td><td>12.8</td><td>12.26</td><td>M4</td><td>--</td><td>10.614642</td><td>-0.006882</td><td>-7.189893</td><td>-2.172e-05</td><td>4.451e-05</td><td>-3.214e-05</td><td>6.28250084521</td><td>-0.595366462526</td><td>3.47068417636e-06</td><td>-3.027690523e-06</td><td>--</td><td>--</td><td>--</td><td>1</td><td>119614</td><td>--</td><td>0.00108642562362</td><td>--</td><td>--</td><td>--</td></tr>\n",
       "<tr><td>119615</td><td>--</td><td>--</td><td>--</td><td>Gl 915</td><td>--</td><td>--</td><td>0.036059</td><td>-43.165974</td><td>7.8003</td><td>612.44</td><td>-673.06</td><td>0.0</td><td>13.05</td><td>13.589</td><td>DA5</td><td>0.07</td><td>5.689088</td><td>0.054021</td><td>-5.336296</td><td>-1.762e-05</td><td>2.3e-05</td><td>-1.857e-05</td><td>0.00944012464526</td><td>-0.753388363318</td><td>2.96919290519e-06</td><td>-3.26310635e-06</td><td>--</td><td>--</td><td>--</td><td>1</td><td>119615</td><td>--</td><td>0.000319447872421</td><td>--</td><td>--</td><td>--</td></tr>\n",
       "</table>"
      ],
      "text/plain": [
       "<Table masked=True length=119614>\n",
       "  id    hip    hd     hr  ...        lum          var    var_min var_max\n",
       "int64  int64 int64  int64 ...      float64      string40 float64 float64\n",
       "------ ----- ------ ----- ... ----------------- -------- ------- -------\n",
       "     0    --     --    -- ...               1.0       --      --      --\n",
       "     1     1 224700    -- ...     9.63829023624       --      --      --\n",
       "     2     2 224690    -- ...     0.39228346254       --      --      --\n",
       "     3     3 224699    -- ...     386.901131655       --      --      --\n",
       "     4     4 224707    -- ...     9.36698877952       --      --      --\n",
       "     5     5 224705    -- ...     21.9988510905       --      --      --\n",
       "     6     6     --    -- ...   0.0314195528464       --  12.462  12.162\n",
       "     7     7     --    -- ...    0.406256198187       --      --      --\n",
       "     8     8 224709    -- ...      8.4255837534        Z  11.748   7.648\n",
       "     9     9 224708    -- ...     56.3378150851       --      --      --\n",
       "   ...   ...    ...   ... ...               ...      ...     ...     ...\n",
       "119606    --     --    -- ...  0.00143218789927       --      --      --\n",
       "119607    --     --    -- ...  0.00186895997165       --      --      --\n",
       "119608    --     --    -- ...   0.0017848429165       --      --      --\n",
       "119609    --     --    -- ...    0.003435579479       --      --      --\n",
       "119610    --     --    -- ...  0.00179969951658       --      --      --\n",
       "119611    --     --    -- ...  0.00219988510905       --      --      --\n",
       "119612    --     --    -- ... 8.83893621739e-05       --      --      --\n",
       "119613    --     --    -- ...  0.00222433399849       --      --      --\n",
       "119614    --     --    -- ...  0.00108642562362       --      --      --\n",
       "119615    --     --    -- ... 0.000319447872421       --      --      --"
      ]
     },
     "execution_count": 5,
     "metadata": {},
     "output_type": "execute_result"
    }
   ],
   "source": [
    "data"
   ]
  },
  {
   "cell_type": "code",
   "execution_count": 6,
   "metadata": {
    "collapsed": false
   },
   "outputs": [
    {
     "name": "stdout",
     "output_type": "stream",
     "text": [
      "<class 'astropy.table.table.Table'>\n",
      "(<class 'astropy.table.column.MaskedColumn'>, 1e+20)\n",
      "(<class 'astropy.table.column.MaskedColumn'>, 999999)\n",
      "(<class 'astropy.table.column.MaskedColumn'>, array([ True, False, False, ...,  True,  True,  True], dtype=bool))\n"
     ]
    }
   ],
   "source": [
    "print(type(data))\n",
    "print(type(data['ra']), data['ra'].fill_value)\n",
    "print(type(data['hip']), data['hip'].fill_value)\n",
    "print(type(data['hip']), data['hip']._mask)"
   ]
  },
  {
   "cell_type": "markdown",
   "metadata": {
    "collapsed": true
   },
   "source": [
    "A few things about this dataset:\n",
    "\n",
    "* RA is expressed in decimal hours;\n",
    "* The \"null\" for distance is 1e5;\n",
    "* The data are read into \"masked arrays\" in astropy. \n",
    "* There is an (are many) incompatibility(ies) with masked arrays; \n",
    "    * use .filled() to down convert."
   ]
  },
  {
   "cell_type": "code",
   "execution_count": 7,
   "metadata": {
    "collapsed": true
   },
   "outputs": [],
   "source": [
    "px = data['ra'].filled()\n",
    "py = data['dec'].filled()\n",
    "pz = data['dist'].filled()\n",
    "ps = data['absmag'].filled()\n"
   ]
  },
  {
   "cell_type": "code",
   "execution_count": null,
   "metadata": {
    "collapsed": false
   },
   "outputs": [
    {
     "name": "stderr",
     "output_type": "stream",
     "text": [
      "/Users/aamn/anaconda/envs/3d/lib/python2.7/site-packages/mayavi/tools/figure.py:178: UserWarning: Scene Mayavi Scene 1 not managed by mlab\n",
      "  warnings.warn('Scene %s not managed by mlab' % name)\n",
      "/Users/aamn/anaconda/envs/3d/lib/python2.7/site-packages/traits/has_traits.py:1771: FutureWarning: comparison to `None` will result in an elementwise object comparison in the future.\n",
      "  setattr( self, name, value )\n"
     ]
    }
   ],
   "source": [
    "mlab.close(1)\n",
    "mlab.figure(1,size=(600,300))\n",
    "mlab.points3d(px, py, pz, extent=[0, 1, 0, 0.5, 0, 1], mode='point')\n",
    "\n",
    "# figure\n",
    "mlab.outline(color=(0,0,0),line_width = 2.0)\n",
    "mlab.axes(color = (0,0,0), ranges = [360, 0.0, -90, 90, 1, 30], nb_labels=5)\n",
    "mlab.xlabel(\"RA\")\n",
    "mlab.ylabel(\"Dec\")\n",
    "mlab.zlabel(\"Distance (pc)\")\n",
    "mlab.title(\"HYD v3\", height=0.9, opacity = 0.5, size=0.3)\n",
    "mlab.colorbar(orientation=\"vertical\",nb_labels=7)\n",
    "\n",
    "# save to X3D file\n",
    "mlab.savefig('hydv3_simple.x3d')\n",
    "mlab.show()"
   ]
  },
  {
   "cell_type": "code",
   "execution_count": null,
   "metadata": {
    "collapsed": false
   },
   "outputs": [
    {
     "ename": "AttributeError",
     "evalue": "'Column' object has no attribute '_mask'",
     "output_type": "error",
     "traceback": [
      "\u001b[0;31m---------------------------------------------------------------------------\u001b[0m",
      "\u001b[0;31mAttributeError\u001b[0m                            Traceback (most recent call last)",
      "\u001b[0;32m<ipython-input-9-060e4d3fe9f6>\u001b[0m in \u001b[0;36m<module>\u001b[0;34m()\u001b[0m\n\u001b[0;32m----> 1\u001b[0;31m \u001b[0mpx\u001b[0m\u001b[0;34m.\u001b[0m\u001b[0m_mask\u001b[0m\u001b[0;34m\u001b[0m\u001b[0m\n\u001b[0m",
      "\u001b[0;31mAttributeError\u001b[0m: 'Column' object has no attribute '_mask'"
     ]
    },
    {
     "name": "stdout",
     "output_type": "stream",
     "text": [
      "> \u001b[0;32m<ipython-input-9-060e4d3fe9f6>\u001b[0m(1)\u001b[0;36m<module>\u001b[0;34m()\u001b[0m\n",
      "\u001b[0;32m----> 1 \u001b[0;31m\u001b[0mpx\u001b[0m\u001b[0;34m.\u001b[0m\u001b[0m_mask\u001b[0m\u001b[0;34m\u001b[0m\u001b[0m\n",
      "\u001b[0m\n"
     ]
    }
   ],
   "source": [
    "px._mask"
   ]
  },
  {
   "cell_type": "code",
   "execution_count": null,
   "metadata": {
    "collapsed": true
   },
   "outputs": [],
   "source": []
  }
 ],
 "metadata": {
  "kernelspec": {
   "display_name": "Python 2",
   "language": "python",
   "name": "python2"
  },
  "language_info": {
   "codemirror_mode": {
    "name": "ipython",
    "version": 2
   },
   "file_extension": ".py",
   "mimetype": "text/x-python",
   "name": "python",
   "nbconvert_exporter": "python",
   "pygments_lexer": "ipython2",
   "version": "2.7.9"
  }
 },
 "nbformat": 4,
 "nbformat_minor": 0
}
